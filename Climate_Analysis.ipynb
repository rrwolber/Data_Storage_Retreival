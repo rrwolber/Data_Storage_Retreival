{
 "cells": [
  {
   "cell_type": "code",
   "execution_count": 138,
   "metadata": {
    "collapsed": true
   },
   "outputs": [],
   "source": [
    "from sqlalchemy.ext.automap import automap_base\n",
    "from sqlalchemy.orm import Session\n",
    "from sqlalchemy import create_engine, Column, Integer, String, Float, Date, inspect\n",
    "import datetime\n",
    "from sqlalchemy.sql import func\n",
    "\n",
    "import pandas as pd\n",
    "import matplotlib.pyplot as plt\n",
    "import matplotlib.dates as mdates\n",
    "import numpy as np\n"
   ]
  },
  {
   "cell_type": "code",
   "execution_count": 90,
   "metadata": {
    "collapsed": true
   },
   "outputs": [],
   "source": [
    "engine = create_engine('sqlite:///hawaii.sqlite', echo=False)"
   ]
  },
  {
   "cell_type": "code",
   "execution_count": 91,
   "metadata": {},
   "outputs": [
    {
     "data": {
      "text/plain": [
       "['measurements', 'stations']"
      ]
     },
     "execution_count": 91,
     "metadata": {},
     "output_type": "execute_result"
    }
   ],
   "source": [
    "inspector = inspect(engine)\n",
    "inspector.get_table_names()"
   ]
  },
  {
   "cell_type": "code",
   "execution_count": 92,
   "metadata": {},
   "outputs": [
    {
     "data": {
      "text/plain": [
       "[(0, 'USC00519397', '2010-01-01', 0.08, 65),\n",
       " (1, 'USC00519397', '2010-01-02', 0.0, 63),\n",
       " (2, 'USC00519397', '2010-01-03', 0.0, 74),\n",
       " (3, 'USC00519397', '2010-01-04', 0.0, 76),\n",
       " (5, 'USC00519397', '2010-01-07', 0.06, 70),\n",
       " (6, 'USC00519397', '2010-01-08', 0.0, 64),\n",
       " (7, 'USC00519397', '2010-01-09', 0.0, 68),\n",
       " (8, 'USC00519397', '2010-01-10', 0.0, 73),\n",
       " (9, 'USC00519397', '2010-01-11', 0.01, 64),\n",
       " (10, 'USC00519397', '2010-01-12', 0.0, 61)]"
      ]
     },
     "execution_count": 92,
     "metadata": {},
     "output_type": "execute_result"
    }
   ],
   "source": [
    "engine.execute('SELECT * FROM measurements LIMIT 10').fetchall()"
   ]
  },
  {
   "cell_type": "code",
   "execution_count": 93,
   "metadata": {},
   "outputs": [
    {
     "data": {
      "text/plain": [
       "[(0, 'USC00519397', 'WAIKIKI 717.2, HI US', 21.2716, -157.8168, 3),\n",
       " (1, 'USC00513117', 'KANEOHE 838.1, HI US', 21.4234, -157.8015, 14.6),\n",
       " (2, 'USC00514830', 'KUALOA RANCH HEADQUARTERS 886.9, HI US', 21.5213, -157.8374, 7),\n",
       " (3, 'USC00517948', 'PEARL CITY, HI US', 21.3934, -157.9751, 11.9),\n",
       " (4, 'USC00518838', 'UPPER WAHIAWA 874.3, HI US', 21.4992, -158.0111, 306.6),\n",
       " (5, 'USC00519523', 'WAIMANALO EXPERIMENTAL FARM, HI US', 21.33556, -157.71139, 19.5),\n",
       " (6, 'USC00519281', 'WAIHEE 837.5, HI US', 21.45167, -157.84888999999995, 32.9),\n",
       " (7, 'USC00511918', 'HONOLULU OBSERVATORY 702.2, HI US', 21.3152, -157.9992, 0.9),\n",
       " (8, 'USC00516128', 'MANOA LYON ARBO 785.2, HI US', 21.3331, -157.8025, 152.4)]"
      ]
     },
     "execution_count": 93,
     "metadata": {},
     "output_type": "execute_result"
    }
   ],
   "source": [
    "engine.execute('SELECT * FROM stations').fetchall()"
   ]
  },
  {
   "cell_type": "code",
   "execution_count": 96,
   "metadata": {},
   "outputs": [],
   "source": [
    "Base = automap_base()\n",
    "Base.prepare(engine, reflect=True)\n",
    "Measurement = Base.classes.measurements\n",
    "\n",
    "Base = automap_base()\n",
    "Base.prepare(engine, reflect=True)\n",
    "Station = Base.classes.stations"
   ]
  },
  {
   "cell_type": "code",
   "execution_count": 95,
   "metadata": {},
   "outputs": [
    {
     "name": "stdout",
     "output_type": "stream",
     "text": [
      "id INTEGER\n",
      "station VARCHAR\n",
      "name VARCHAR\n",
      "latitude FLOAT\n",
      "longitude FLOAT\n",
      "elevation INTEGER\n"
     ]
    }
   ],
   "source": [
    "columns = inspector.get_columns('stations')\n",
    "for c in columns:\n",
    "    print(c['name'], c[\"type\"])"
   ]
  },
  {
   "cell_type": "code",
   "execution_count": 98,
   "metadata": {},
   "outputs": [
    {
     "name": "stdout",
     "output_type": "stream",
     "text": [
      "id INTEGER\n",
      "station VARCHAR\n",
      "date DATE\n",
      "prcp FLOAT\n",
      "tobs INTEGER\n"
     ]
    }
   ],
   "source": [
    "columns = inspector.get_columns('measurements')\n",
    "for c in columns:\n",
    "    print(c['name'], c[\"type\"])"
   ]
  },
  {
   "cell_type": "code",
   "execution_count": 99,
   "metadata": {
    "collapsed": true
   },
   "outputs": [],
   "source": [
    "session = Session(engine)"
   ]
  },
  {
   "cell_type": "code",
   "execution_count": 175,
   "metadata": {},
   "outputs": [
    {
     "data": {
      "text/plain": [
       "[(0.45166666666666666, datetime.date(2016, 8, 23)),\n",
       " (1.5549999999999997, datetime.date(2016, 8, 24)),\n",
       " (0.07714285714285715, datetime.date(2016, 8, 25)),\n",
       " (0.016666666666666666, datetime.date(2016, 8, 26)),\n",
       " (0.06399999999999999, datetime.date(2016, 8, 27)),\n",
       " (0.5166666666666666, datetime.date(2016, 8, 28)),\n",
       " (0.24333333333333332, datetime.date(2016, 8, 29)),\n",
       " (0.011666666666666667, datetime.date(2016, 8, 30)),\n",
       " (0.6359999999999999, datetime.date(2016, 8, 31)),\n",
       " (0.006, datetime.date(2016, 9, 1)),\n",
       " (0.05, datetime.date(2016, 9, 2)),\n",
       " (0.254, datetime.date(2016, 9, 3)),\n",
       " (0.276, datetime.date(2016, 9, 4)),\n",
       " (0.08499999999999999, datetime.date(2016, 9, 5)),\n",
       " (0.246, datetime.date(2016, 9, 6)),\n",
       " (0.3333333333333333, datetime.date(2016, 9, 7)),\n",
       " (0.07666666666666667, datetime.date(2016, 9, 8)),\n",
       " (0.17833333333333332, datetime.date(2016, 9, 9)),\n",
       " (0.27999999999999997, datetime.date(2016, 9, 10)),\n",
       " (0.25, datetime.date(2016, 9, 11)),\n",
       " (0.308, datetime.date(2016, 9, 12)),\n",
       " (0.45166666666666666, datetime.date(2016, 9, 13)),\n",
       " (2.3800000000000003, datetime.date(2016, 9, 14)),\n",
       " (0.8266666666666667, datetime.date(2016, 9, 15)),\n",
       " (0.11714285714285715, datetime.date(2016, 9, 16)),\n",
       " (0.13599999999999998, datetime.date(2016, 9, 17)),\n",
       " (0.10600000000000001, datetime.date(2016, 9, 18)),\n",
       " (0.064, datetime.date(2016, 9, 19)),\n",
       " (0.14714285714285716, datetime.date(2016, 9, 20)),\n",
       " (0.19499999999999998, datetime.date(2016, 9, 21)),\n",
       " (0.2057142857142857, datetime.date(2016, 9, 22)),\n",
       " (0.22428571428571428, datetime.date(2016, 9, 23)),\n",
       " (0.04666666666666667, datetime.date(2016, 9, 24)),\n",
       " (0.015, datetime.date(2016, 9, 25)),\n",
       " (0.2783333333333333, datetime.date(2016, 9, 26)),\n",
       " (0.22666666666666666, datetime.date(2016, 9, 27)),\n",
       " (0.018571428571428572, datetime.date(2016, 9, 28)),\n",
       " (0.42714285714285716, datetime.date(2016, 9, 29)),\n",
       " (0.19166666666666665, datetime.date(2016, 9, 30)),\n",
       " (0.2416666666666667, datetime.date(2016, 10, 1)),\n",
       " (0.12, datetime.date(2016, 10, 2)),\n",
       " (0.115, datetime.date(2016, 10, 3)),\n",
       " (0.5816666666666667, datetime.date(2016, 10, 4)),\n",
       " (0.1366666666666667, datetime.date(2016, 10, 5)),\n",
       " (0.022857142857142857, datetime.date(2016, 10, 6)),\n",
       " (0.0016666666666666668, datetime.date(2016, 10, 7)),\n",
       " (0.008, datetime.date(2016, 10, 8)),\n",
       " (0.0, datetime.date(2016, 10, 9)),\n",
       " (0.0, datetime.date(2016, 10, 10)),\n",
       " (0.11499999999999999, datetime.date(2016, 10, 11)),\n",
       " (0.013333333333333334, datetime.date(2016, 10, 12)),\n",
       " (0.013333333333333334, datetime.date(2016, 10, 13)),\n",
       " (0.0, datetime.date(2016, 10, 14)),\n",
       " (0.065, datetime.date(2016, 10, 15)),\n",
       " (0.0, datetime.date(2016, 10, 16)),\n",
       " (0.11000000000000001, datetime.date(2016, 10, 17)),\n",
       " (0.09999999999999999, datetime.date(2016, 10, 18)),\n",
       " (0.028333333333333332, datetime.date(2016, 10, 19)),\n",
       " (0.202, datetime.date(2016, 10, 20)),\n",
       " (0.064, datetime.date(2016, 10, 21)),\n",
       " (0.354, datetime.date(2016, 10, 22)),\n",
       " (0.055999999999999994, datetime.date(2016, 10, 23)),\n",
       " (0.13166666666666665, datetime.date(2016, 10, 24)),\n",
       " (0.15714285714285717, datetime.date(2016, 10, 25)),\n",
       " (0.04833333333333334, datetime.date(2016, 10, 26)),\n",
       " (0.31, datetime.date(2016, 10, 27)),\n",
       " (0.09500000000000001, datetime.date(2016, 10, 28)),\n",
       " (0.10666666666666667, datetime.date(2016, 10, 29)),\n",
       " (0.26499999999999996, datetime.date(2016, 10, 30)),\n",
       " (0.26833333333333337, datetime.date(2016, 10, 31)),\n",
       " (0.035, datetime.date(2016, 11, 1)),\n",
       " (0.006666666666666667, datetime.date(2016, 11, 2)),\n",
       " (0.0033333333333333335, datetime.date(2016, 11, 3)),\n",
       " (0.01, datetime.date(2016, 11, 4)),\n",
       " (0.075, datetime.date(2016, 11, 5)),\n",
       " (0.013333333333333334, datetime.date(2016, 11, 6)),\n",
       " (0.03, datetime.date(2016, 11, 7)),\n",
       " (0.18666666666666668, datetime.date(2016, 11, 8)),\n",
       " (0.05714285714285714, datetime.date(2016, 11, 9)),\n",
       " (0.0016666666666666668, datetime.date(2016, 11, 10)),\n",
       " (0.0, datetime.date(2016, 11, 11)),\n",
       " (0.0, datetime.date(2016, 11, 12)),\n",
       " (0.0, datetime.date(2016, 11, 13)),\n",
       " (0.02142857142857143, datetime.date(2016, 11, 14)),\n",
       " (0.008333333333333333, datetime.date(2016, 11, 15)),\n",
       " (0.25666666666666665, datetime.date(2016, 11, 16)),\n",
       " (0.01, datetime.date(2016, 11, 17)),\n",
       " (0.0075, datetime.date(2016, 11, 18)),\n",
       " (0.095, datetime.date(2016, 11, 19)),\n",
       " (0.23750000000000002, datetime.date(2016, 11, 20)),\n",
       " (0.616, datetime.date(2016, 11, 21)),\n",
       " (1.002, datetime.date(2016, 11, 22)),\n",
       " (0.134, datetime.date(2016, 11, 23)),\n",
       " (0.296, datetime.date(2016, 11, 24)),\n",
       " (0.264, datetime.date(2016, 11, 25)),\n",
       " (0.085, datetime.date(2016, 11, 26)),\n",
       " (0.09166666666666667, datetime.date(2016, 11, 27)),\n",
       " (0.12, datetime.date(2016, 11, 28)),\n",
       " (0.07166666666666667, datetime.date(2016, 11, 29)),\n",
       " (0.17666666666666667, datetime.date(2016, 11, 30)),\n",
       " (0.295, datetime.date(2016, 12, 1)),\n",
       " (0.3933333333333333, datetime.date(2016, 12, 2)),\n",
       " (0.45166666666666666, datetime.date(2016, 12, 3)),\n",
       " (0.13333333333333333, datetime.date(2016, 12, 4)),\n",
       " (0.54, datetime.date(2016, 12, 5)),\n",
       " (0.008, datetime.date(2016, 12, 6)),\n",
       " (0.076, datetime.date(2016, 12, 7)),\n",
       " (0.06571428571428573, datetime.date(2016, 12, 8)),\n",
       " (0.37, datetime.date(2016, 12, 9)),\n",
       " (0.026000000000000002, datetime.date(2016, 12, 10)),\n",
       " (0.05, datetime.date(2016, 12, 11)),\n",
       " (0.008333333333333333, datetime.date(2016, 12, 12)),\n",
       " (0.12833333333333333, datetime.date(2016, 12, 13)),\n",
       " (0.25, datetime.date(2016, 12, 14)),\n",
       " (0.043333333333333335, datetime.date(2016, 12, 15)),\n",
       " (0.006666666666666667, datetime.date(2016, 12, 16)),\n",
       " (0.07, datetime.date(2016, 12, 17)),\n",
       " (0.178, datetime.date(2016, 12, 18)),\n",
       " (0.07, datetime.date(2016, 12, 19)),\n",
       " (0.005, datetime.date(2016, 12, 20)),\n",
       " (0.1285714285714286, datetime.date(2016, 12, 21)),\n",
       " (0.4116666666666666, datetime.date(2016, 12, 22)),\n",
       " (0.205, datetime.date(2016, 12, 23)),\n",
       " (0.27, datetime.date(2016, 12, 24)),\n",
       " (0.086, datetime.date(2016, 12, 25)),\n",
       " (0.40800000000000003, datetime.date(2016, 12, 26)),\n",
       " (0.04, datetime.date(2016, 12, 27)),\n",
       " (0.06833333333333334, datetime.date(2016, 12, 28)),\n",
       " (0.39666666666666667, datetime.date(2016, 12, 29)),\n",
       " (0.5583333333333333, datetime.date(2016, 12, 30)),\n",
       " (0.42800000000000005, datetime.date(2016, 12, 31)),\n",
       " (0.06999999999999999, datetime.date(2017, 1, 1)),\n",
       " (0.004, datetime.date(2017, 1, 2)),\n",
       " (0.0, datetime.date(2017, 1, 3)),\n",
       " (0.03, datetime.date(2017, 1, 4)),\n",
       " (0.15833333333333333, datetime.date(2017, 1, 5)),\n",
       " (0.13333333333333333, datetime.date(2017, 1, 6)),\n",
       " (0.01, datetime.date(2017, 1, 7)),\n",
       " (0.01, datetime.date(2017, 1, 8)),\n",
       " (0.0, datetime.date(2017, 1, 9)),\n",
       " (0.0, datetime.date(2017, 1, 10)),\n",
       " (0.0, datetime.date(2017, 1, 11)),\n",
       " (0.0, datetime.date(2017, 1, 12)),\n",
       " (0.0, datetime.date(2017, 1, 13)),\n",
       " (0.002, datetime.date(2017, 1, 14)),\n",
       " (0.0025, datetime.date(2017, 1, 15)),\n",
       " (0.0, datetime.date(2017, 1, 16)),\n",
       " (0.0, datetime.date(2017, 1, 17)),\n",
       " (0.011666666666666667, datetime.date(2017, 1, 18)),\n",
       " (0.0033333333333333335, datetime.date(2017, 1, 19)),\n",
       " (0.0, datetime.date(2017, 1, 20)),\n",
       " (0.04666666666666666, datetime.date(2017, 1, 21)),\n",
       " (0.20400000000000001, datetime.date(2017, 1, 22)),\n",
       " (0.188, datetime.date(2017, 1, 23)),\n",
       " (0.45, datetime.date(2017, 1, 24)),\n",
       " (0.716, datetime.date(2017, 1, 25)),\n",
       " (0.015714285714285715, datetime.date(2017, 1, 26)),\n",
       " (0.008571428571428572, datetime.date(2017, 1, 27)),\n",
       " (0.028000000000000004, datetime.date(2017, 1, 28)),\n",
       " (0.2475, datetime.date(2017, 1, 29)),\n",
       " (0.008333333333333333, datetime.date(2017, 1, 30)),\n",
       " (0.0, datetime.date(2017, 1, 31)),\n",
       " (0.0, datetime.date(2017, 2, 1)),\n",
       " (0.0, datetime.date(2017, 2, 2)),\n",
       " (0.0, datetime.date(2017, 2, 3)),\n",
       " (0.0, datetime.date(2017, 2, 4)),\n",
       " (0.0, datetime.date(2017, 2, 5)),\n",
       " (0.06333333333333334, datetime.date(2017, 2, 6)),\n",
       " (1.0571428571428572, datetime.date(2017, 2, 7)),\n",
       " (0.1542857142857143, datetime.date(2017, 2, 8)),\n",
       " (0.002857142857142857, datetime.date(2017, 2, 9)),\n",
       " (0.0, datetime.date(2017, 2, 10)),\n",
       " (1.866666666666667, datetime.date(2017, 2, 11)),\n",
       " (1.7466666666666668, datetime.date(2017, 2, 12)),\n",
       " (0.4866666666666666, datetime.date(2017, 2, 13)),\n",
       " (0.0016666666666666668, datetime.date(2017, 2, 14)),\n",
       " (0.016, datetime.date(2017, 2, 15)),\n",
       " (0.36999999999999994, datetime.date(2017, 2, 16)),\n",
       " (0.17500000000000004, datetime.date(2017, 2, 17)),\n",
       " (0.0025, datetime.date(2017, 2, 18)),\n",
       " (0.0475, datetime.date(2017, 2, 19)),\n",
       " (0.0, datetime.date(2017, 2, 20)),\n",
       " (0.026000000000000002, datetime.date(2017, 2, 21)),\n",
       " (0.13000000000000003, datetime.date(2017, 2, 22)),\n",
       " (0.0014285714285714286, datetime.date(2017, 2, 23)),\n",
       " (0.0, datetime.date(2017, 2, 24)),\n",
       " (0.0375, datetime.date(2017, 2, 25)),\n",
       " (0.0, datetime.date(2017, 2, 26)),\n",
       " (0.0, datetime.date(2017, 2, 27)),\n",
       " (0.13666666666666666, datetime.date(2017, 2, 28)),\n",
       " (1.6600000000000001, datetime.date(2017, 3, 1)),\n",
       " (1.0933333333333333, datetime.date(2017, 3, 2)),\n",
       " (0.37166666666666665, datetime.date(2017, 3, 3)),\n",
       " (0.0, datetime.date(2017, 3, 4)),\n",
       " (0.3025, datetime.date(2017, 3, 5)),\n",
       " (0.135, datetime.date(2017, 3, 6)),\n",
       " (0.0, datetime.date(2017, 3, 7)),\n",
       " (0.0, datetime.date(2017, 3, 8)),\n",
       " (0.3266666666666667, datetime.date(2017, 3, 9)),\n",
       " (0.04142857142857143, datetime.date(2017, 3, 10)),\n",
       " (0.008, datetime.date(2017, 3, 11)),\n",
       " (0.0, datetime.date(2017, 3, 12)),\n",
       " (0.0, datetime.date(2017, 3, 13)),\n",
       " (0.008571428571428572, datetime.date(2017, 3, 14)),\n",
       " (0.01, datetime.date(2017, 3, 15)),\n",
       " (0.0, datetime.date(2017, 3, 16)),\n",
       " (0.144, datetime.date(2017, 3, 17)),\n",
       " (0.0, datetime.date(2017, 3, 18)),\n",
       " (0.0, datetime.date(2017, 3, 19)),\n",
       " (0.004, datetime.date(2017, 3, 20)),\n",
       " (0.015, datetime.date(2017, 3, 21)),\n",
       " (0.0, datetime.date(2017, 3, 22)),\n",
       " (0.008333333333333333, datetime.date(2017, 3, 23)),\n",
       " (0.18833333333333335, datetime.date(2017, 3, 24)),\n",
       " (0.394, datetime.date(2017, 3, 25)),\n",
       " (0.0, datetime.date(2017, 3, 26)),\n",
       " (0.002, datetime.date(2017, 3, 27)),\n",
       " (0.11833333333333335, datetime.date(2017, 3, 28)),\n",
       " (0.03166666666666667, datetime.date(2017, 3, 29)),\n",
       " (0.03, datetime.date(2017, 3, 30)),\n",
       " (0.0016666666666666668, datetime.date(2017, 3, 31)),\n",
       " (0.06833333333333334, datetime.date(2017, 4, 1)),\n",
       " (0.0, datetime.date(2017, 4, 2)),\n",
       " (0.11, datetime.date(2017, 4, 3)),\n",
       " (0.02142857142857143, datetime.date(2017, 4, 4)),\n",
       " (0.09428571428571429, datetime.date(2017, 4, 5)),\n",
       " (0.008571428571428572, datetime.date(2017, 4, 6)),\n",
       " (0.0, datetime.date(2017, 4, 7)),\n",
       " (0.0, datetime.date(2017, 4, 8)),\n",
       " (0.0, datetime.date(2017, 4, 9)),\n",
       " (0.0033333333333333335, datetime.date(2017, 4, 10)),\n",
       " (0.07833333333333332, datetime.date(2017, 4, 11)),\n",
       " (0.18000000000000002, datetime.date(2017, 4, 12)),\n",
       " (0.18166666666666667, datetime.date(2017, 4, 13)),\n",
       " (1.1199999999999999, datetime.date(2017, 4, 14)),\n",
       " (0.34800000000000003, datetime.date(2017, 4, 15)),\n",
       " (0.21400000000000002, datetime.date(2017, 4, 16)),\n",
       " (0.6140000000000001, datetime.date(2017, 4, 17)),\n",
       " (0.48, datetime.date(2017, 4, 18)),\n",
       " (0.03333333333333333, datetime.date(2017, 4, 19)),\n",
       " (0.13, datetime.date(2017, 4, 20)),\n",
       " (1.3966666666666667, datetime.date(2017, 4, 21)),\n",
       " (0.9920000000000002, datetime.date(2017, 4, 22)),\n",
       " (0.11499999999999999, datetime.date(2017, 4, 23)),\n",
       " (0.015000000000000001, datetime.date(2017, 4, 24)),\n",
       " (0.0, datetime.date(2017, 4, 25)),\n",
       " (0.065, datetime.date(2017, 4, 26)),\n",
       " (0.06999999999999999, datetime.date(2017, 4, 27)),\n",
       " (0.7066666666666667, datetime.date(2017, 4, 28)),\n",
       " (1.3399999999999999, datetime.date(2017, 4, 29)),\n",
       " (1.07, datetime.date(2017, 4, 30)),\n",
       " (0.135, datetime.date(2017, 5, 1)),\n",
       " (0.008333333333333333, datetime.date(2017, 5, 2)),\n",
       " (0.006, datetime.date(2017, 5, 3)),\n",
       " (0.016, datetime.date(2017, 5, 4)),\n",
       " (0.06333333333333334, datetime.date(2017, 5, 5)),\n",
       " (0.01, datetime.date(2017, 5, 6)),\n",
       " (0.024, datetime.date(2017, 5, 7)),\n",
       " (0.5016666666666666, datetime.date(2017, 5, 8)),\n",
       " (0.9260000000000002, datetime.date(2017, 5, 9)),\n",
       " (0.14333333333333334, datetime.date(2017, 5, 10)),\n",
       " (0.12, datetime.date(2017, 5, 11)),\n",
       " (0.032, datetime.date(2017, 5, 12)),\n",
       " (0.048, datetime.date(2017, 5, 13)),\n",
       " (0.244, datetime.date(2017, 5, 14)),\n",
       " (0.176, datetime.date(2017, 5, 15)),\n",
       " (0.06999999999999999, datetime.date(2017, 5, 16)),\n",
       " (0.025000000000000005, datetime.date(2017, 5, 17)),\n",
       " (0.14166666666666666, datetime.date(2017, 5, 18)),\n",
       " (0.01, datetime.date(2017, 5, 19)),\n",
       " (0.0075, datetime.date(2017, 5, 20)),\n",
       " (0.002, datetime.date(2017, 5, 21)),\n",
       " (0.072, datetime.date(2017, 5, 22)),\n",
       " (0.11833333333333333, datetime.date(2017, 5, 23)),\n",
       " (0.6483333333333333, datetime.date(2017, 5, 24)),\n",
       " (0.37000000000000005, datetime.date(2017, 5, 25)),\n",
       " (0.004, datetime.date(2017, 5, 26)),\n",
       " (0.085, datetime.date(2017, 5, 27)),\n",
       " (0.06833333333333334, datetime.date(2017, 5, 28)),\n",
       " (0.084, datetime.date(2017, 5, 29)),\n",
       " (0.346, datetime.date(2017, 5, 30)),\n",
       " (0.074, datetime.date(2017, 5, 31)),\n",
       " (0.006666666666666667, datetime.date(2017, 6, 1)),\n",
       " (0.06799999999999999, datetime.date(2017, 6, 2)),\n",
       " (0.122, datetime.date(2017, 6, 3)),\n",
       " (0.19166666666666665, datetime.date(2017, 6, 4)),\n",
       " (0.013333333333333334, datetime.date(2017, 6, 5)),\n",
       " (0.0, datetime.date(2017, 6, 6)),\n",
       " (0.0016666666666666668, datetime.date(2017, 6, 7)),\n",
       " (0.005, datetime.date(2017, 6, 8)),\n",
       " (0.008, datetime.date(2017, 6, 9)),\n",
       " (0.306, datetime.date(2017, 6, 10)),\n",
       " (0.35833333333333334, datetime.date(2017, 6, 11)),\n",
       " (0.2916666666666667, datetime.date(2017, 6, 12)),\n",
       " (0.22999999999999998, datetime.date(2017, 6, 13)),\n",
       " (0.26166666666666666, datetime.date(2017, 6, 14)),\n",
       " (0.45166666666666666, datetime.date(2017, 6, 15)),\n",
       " (0.03333333333333333, datetime.date(2017, 6, 16)),\n",
       " (0.09000000000000001, datetime.date(2017, 6, 17)),\n",
       " (0.23666666666666666, datetime.date(2017, 6, 18)),\n",
       " (0.12166666666666666, datetime.date(2017, 6, 19)),\n",
       " (0.11000000000000001, datetime.date(2017, 6, 20)),\n",
       " (0.1275, datetime.date(2017, 6, 21)),\n",
       " (0.07333333333333335, datetime.date(2017, 6, 22)),\n",
       " (0.11166666666666665, datetime.date(2017, 6, 23)),\n",
       " (0.128, datetime.date(2017, 6, 24)),\n",
       " (0.12, datetime.date(2017, 6, 25)),\n",
       " (0.02, datetime.date(2017, 6, 26)),\n",
       " (0.018333333333333333, datetime.date(2017, 6, 27)),\n",
       " (0.005, datetime.date(2017, 6, 28)),\n",
       " (0.011666666666666667, datetime.date(2017, 6, 29)),\n",
       " (0.07428571428571429, datetime.date(2017, 6, 30)),\n",
       " (0.065, datetime.date(2017, 7, 1)),\n",
       " (0.18, datetime.date(2017, 7, 2)),\n",
       " (0.148, datetime.date(2017, 7, 3)),\n",
       " (0.037500000000000006, datetime.date(2017, 7, 4)),\n",
       " (0.0, datetime.date(2017, 7, 5)),\n",
       " (0.004, datetime.date(2017, 7, 6)),\n",
       " (0.1, datetime.date(2017, 7, 7)),\n",
       " (0.016666666666666666, datetime.date(2017, 7, 8)),\n",
       " (0.03333333333333333, datetime.date(2017, 7, 9)),\n",
       " (0.006666666666666667, datetime.date(2017, 7, 10)),\n",
       " (0.005, datetime.date(2017, 7, 11)),\n",
       " (0.060000000000000005, datetime.date(2017, 7, 12)),\n",
       " (0.3016666666666667, datetime.date(2017, 7, 13)),\n",
       " (0.15833333333333335, datetime.date(2017, 7, 14)),\n",
       " (0.03166666666666667, datetime.date(2017, 7, 15)),\n",
       " (0.135, datetime.date(2017, 7, 16)),\n",
       " (0.15166666666666667, datetime.date(2017, 7, 17)),\n",
       " (0.3614285714285714, datetime.date(2017, 7, 18)),\n",
       " (0.06833333333333334, datetime.date(2017, 7, 19)),\n",
       " (0.17714285714285713, datetime.date(2017, 7, 20)),\n",
       " (0.018571428571428572, datetime.date(2017, 7, 21)),\n",
       " (0.7366666666666667, datetime.date(2017, 7, 22)),\n",
       " (0.22600000000000003, datetime.date(2017, 7, 23)),\n",
       " (0.6539999999999999, datetime.date(2017, 7, 24)),\n",
       " (0.08714285714285715, datetime.date(2017, 7, 25)),\n",
       " (0.08333333333333333, datetime.date(2017, 7, 26)),\n",
       " (0.0016666666666666668, datetime.date(2017, 7, 27)),\n",
       " (0.11, datetime.date(2017, 7, 28)),\n",
       " (0.10166666666666667, datetime.date(2017, 7, 29)),\n",
       " (0.06, datetime.date(2017, 7, 30)),\n",
       " (0.0, datetime.date(2017, 7, 31)),\n",
       " (0.04666666666666666, datetime.date(2017, 8, 1)),\n",
       " (0.075, datetime.date(2017, 8, 2)),\n",
       " (0.017499999999999998, datetime.date(2017, 8, 3)),\n",
       " (0.015, datetime.date(2017, 8, 4)),\n",
       " (0.03, datetime.date(2017, 8, 5)),\n",
       " (0.0, datetime.date(2017, 8, 6)),\n",
       " (0.0125, datetime.date(2017, 8, 7)),\n",
       " (0.11000000000000001, datetime.date(2017, 8, 8)),\n",
       " (0.049999999999999996, datetime.date(2017, 8, 9)),\n",
       " (0.0175, datetime.date(2017, 8, 10)),\n",
       " (0.0, datetime.date(2017, 8, 11)),\n",
       " (0.04666666666666667, datetime.date(2017, 8, 12)),\n",
       " (0.0, datetime.date(2017, 8, 13)),\n",
       " (0.062, datetime.date(2017, 8, 14)),\n",
       " (0.164, datetime.date(2017, 8, 15)),\n",
       " (0.1525, datetime.date(2017, 8, 16)),\n",
       " (0.0475, datetime.date(2017, 8, 17)),\n",
       " (0.02, datetime.date(2017, 8, 18)),\n",
       " (0.03, datetime.date(2017, 8, 19)),\n",
       " (0.005, datetime.date(2017, 8, 20)),\n",
       " (0.19333333333333336, datetime.date(2017, 8, 21)),\n",
       " (0.16666666666666666, datetime.date(2017, 8, 22)),\n",
       " (0.1325, datetime.date(2017, 8, 23))]"
      ]
     },
     "execution_count": 175,
     "metadata": {},
     "output_type": "execute_result"
    }
   ],
   "source": [
    "#show temperature averages per date in the last year of data on the measurment file\n",
    "\n",
    "prcp_avg = (session.query(func.avg(Measurement.prcp), Measurement.date)\n",
    "            .group_by(Measurement.date)\n",
    "            .filter(Measurement.date >= datetime.date(2016, 8, 23))\n",
    "            .all())\n",
    "prcp_avg\n"
   ]
  },
  {
   "cell_type": "code",
   "execution_count": 176,
   "metadata": {},
   "outputs": [],
   "source": [
    "prcps = [prcp[0] for prcp in prcp_avg]\n",
    "dates = range(len([date[1] for date in prcp_avg]))"
   ]
  },
  {
   "cell_type": "code",
   "execution_count": 177,
   "metadata": {},
   "outputs": [
    {
     "data": {
      "text/plain": [
       "<Container object of 366 artists>"
      ]
     },
     "execution_count": 177,
     "metadata": {},
     "output_type": "execute_result"
    }
   ],
   "source": [
    "plt.bar(dates, prcps)"
   ]
  },
  {
   "cell_type": "code",
   "execution_count": 178,
   "metadata": {},
   "outputs": [
    {
     "data": {
      "text/plain": [
       "<matplotlib.text.Text at 0x11e513668>"
      ]
     },
     "execution_count": 178,
     "metadata": {},
     "output_type": "execute_result"
    }
   ],
   "source": [
    "x_values = np.arange(1, 366,30.5)\n",
    "months = [\"September\",\"October\", \"November\",\"December\",\"January\",\"February\",\"March\",\"April\",\"May\",\"June\",\"July\",\"August\"]\n",
    "plt.xticks(x_values, months, rotation='vertical')\n",
    "plt.xlabel(\"Month 2016-2017\")"
   ]
  },
  {
   "cell_type": "code",
   "execution_count": 179,
   "metadata": {},
   "outputs": [
    {
     "data": {
      "text/plain": [
       "<matplotlib.text.Text at 0x11e4ad860>"
      ]
     },
     "execution_count": 179,
     "metadata": {},
     "output_type": "execute_result"
    }
   ],
   "source": [
    "max_prcp = max(prcps)\n",
    "y_values = np.arange(0,2.75,0.25)\n",
    "plt.yticks(y_values, y_values)\n",
    "plt.ylabel(\"Precipitation (Inches)\")"
   ]
  },
  {
   "cell_type": "code",
   "execution_count": 180,
   "metadata": {},
   "outputs": [
    {
     "data": {
      "image/png": "[encoded data removed]",
      "text/plain": [
       "<matplotlib.figure.Figure at 0x11e42a6d8>"
      ]
     },
     "metadata": {},
     "output_type": "display_data"
    }
   ],
   "source": [
    "plt.show()"
   ]
  },
  {
   "cell_type": "code",
   "execution_count": 113,
   "metadata": {},
   "outputs": [
    {
     "data": {
      "text/plain": [
       "[(9)]"
      ]
     },
     "execution_count": 113,
     "metadata": {},
     "output_type": "execute_result"
    }
   ],
   "source": [
    "#Find the total number of stations\n",
    "total_stn = (session.query(func.count(Station.station)).all())\n",
    "\n",
    "total_stn"
   ]
  },
  {
   "cell_type": "code",
   "execution_count": 121,
   "metadata": {},
   "outputs": [
    {
     "data": {
      "text/plain": [
       "[(2772, 'USC00519281'),\n",
       " (2696, 'USC00513117'),\n",
       " (2685, 'USC00519397'),\n",
       " (2572, 'USC00519523'),\n",
       " (2484, 'USC00516128'),\n",
       " (1937, 'USC00514830'),\n",
       " (1932, 'USC00511918'),\n",
       " (683, 'USC00517948'),\n",
       " (342, 'USC00518838')]"
      ]
     },
     "execution_count": 121,
     "metadata": {},
     "output_type": "execute_result"
    }
   ],
   "source": [
    "#find the average observations per station, in descending order of most -> least active\n",
    "\n",
    "activity_avg = (session.query(func.count(Measurement.date), Measurement.station)\n",
    "            .group_by(Measurement.station)\n",
    "            .order_by(func.count(Measurement.date).desc())\n",
    "            .all())\n",
    "\n",
    "activity_avg"
   ]
  },
  {
   "cell_type": "code",
   "execution_count": 203,
   "metadata": {},
   "outputs": [
    {
     "data": {
      "text/plain": [
       "[(77, 'USC00519281'),\n",
       " (77, 'USC00519281'),\n",
       " (80, 'USC00519281'),\n",
       " (80, 'USC00519281'),\n",
       " (75, 'USC00519281'),\n",
       " (73, 'USC00519281'),\n",
       " (78, 'USC00519281'),\n",
       " (77, 'USC00519281'),\n",
       " (78, 'USC00519281'),\n",
       " (80, 'USC00519281'),\n",
       " (80, 'USC00519281'),\n",
       " (78, 'USC00519281'),\n",
       " (78, 'USC00519281'),\n",
       " (78, 'USC00519281'),\n",
       " (73, 'USC00519281'),\n",
       " (74, 'USC00519281'),\n",
       " (80, 'USC00519281'),\n",
       " (79, 'USC00519281'),\n",
       " (77, 'USC00519281'),\n",
       " (80, 'USC00519281'),\n",
       " (76, 'USC00519281'),\n",
       " (79, 'USC00519281'),\n",
       " (75, 'USC00519281'),\n",
       " (79, 'USC00519281'),\n",
       " (78, 'USC00519281'),\n",
       " (79, 'USC00519281'),\n",
       " (78, 'USC00519281'),\n",
       " (78, 'USC00519281'),\n",
       " (76, 'USC00519281'),\n",
       " (74, 'USC00519281'),\n",
       " (77, 'USC00519281'),\n",
       " (78, 'USC00519281'),\n",
       " (79, 'USC00519281'),\n",
       " (79, 'USC00519281'),\n",
       " (77, 'USC00519281'),\n",
       " (80, 'USC00519281'),\n",
       " (78, 'USC00519281'),\n",
       " (78, 'USC00519281'),\n",
       " (78, 'USC00519281'),\n",
       " (77, 'USC00519281'),\n",
       " (79, 'USC00519281'),\n",
       " (79, 'USC00519281'),\n",
       " (79, 'USC00519281'),\n",
       " (79, 'USC00519281'),\n",
       " (75, 'USC00519281'),\n",
       " (76, 'USC00519281'),\n",
       " (73, 'USC00519281'),\n",
       " (72, 'USC00519281'),\n",
       " (71, 'USC00519281'),\n",
       " (77, 'USC00519281'),\n",
       " (79, 'USC00519281'),\n",
       " (78, 'USC00519281'),\n",
       " (79, 'USC00519281'),\n",
       " (77, 'USC00519281'),\n",
       " (79, 'USC00519281'),\n",
       " (77, 'USC00519281'),\n",
       " (78, 'USC00519281'),\n",
       " (78, 'USC00519281'),\n",
       " (78, 'USC00519281'),\n",
       " (78, 'USC00519281'),\n",
       " (77, 'USC00519281'),\n",
       " (74, 'USC00519281'),\n",
       " (75, 'USC00519281'),\n",
       " (76, 'USC00519281'),\n",
       " (73, 'USC00519281'),\n",
       " (76, 'USC00519281'),\n",
       " (74, 'USC00519281'),\n",
       " (77, 'USC00519281'),\n",
       " (76, 'USC00519281'),\n",
       " (76, 'USC00519281'),\n",
       " (74, 'USC00519281'),\n",
       " (75, 'USC00519281'),\n",
       " (75, 'USC00519281'),\n",
       " (75, 'USC00519281'),\n",
       " (75, 'USC00519281'),\n",
       " (71, 'USC00519281'),\n",
       " (63, 'USC00519281'),\n",
       " (70, 'USC00519281'),\n",
       " (68, 'USC00519281'),\n",
       " (67, 'USC00519281'),\n",
       " (77, 'USC00519281'),\n",
       " (74, 'USC00519281'),\n",
       " (77, 'USC00519281'),\n",
       " (76, 'USC00519281'),\n",
       " (76, 'USC00519281'),\n",
       " (75, 'USC00519281'),\n",
       " (76, 'USC00519281'),\n",
       " (75, 'USC00519281'),\n",
       " (73, 'USC00519281'),\n",
       " (75, 'USC00519281'),\n",
       " (73, 'USC00519281'),\n",
       " (75, 'USC00519281'),\n",
       " (74, 'USC00519281'),\n",
       " (75, 'USC00519281'),\n",
       " (74, 'USC00519281'),\n",
       " (75, 'USC00519281'),\n",
       " (73, 'USC00519281'),\n",
       " (75, 'USC00519281'),\n",
       " (73, 'USC00519281'),\n",
       " (73, 'USC00519281'),\n",
       " (74, 'USC00519281'),\n",
       " (70, 'USC00519281'),\n",
       " (72, 'USC00519281'),\n",
       " (70, 'USC00519281'),\n",
       " (67, 'USC00519281'),\n",
       " (67, 'USC00519281'),\n",
       " (69, 'USC00519281'),\n",
       " (70, 'USC00519281'),\n",
       " (68, 'USC00519281'),\n",
       " (69, 'USC00519281'),\n",
       " (69, 'USC00519281'),\n",
       " (66, 'USC00519281'),\n",
       " (65, 'USC00519281'),\n",
       " (68, 'USC00519281'),\n",
       " (62, 'USC00519281'),\n",
       " (75, 'USC00519281'),\n",
       " (70, 'USC00519281'),\n",
       " (69, 'USC00519281'),\n",
       " (76, 'USC00519281'),\n",
       " (76, 'USC00519281'),\n",
       " (74, 'USC00519281'),\n",
       " (73, 'USC00519281'),\n",
       " (71, 'USC00519281'),\n",
       " (74, 'USC00519281'),\n",
       " (74, 'USC00519281'),\n",
       " (72, 'USC00519281'),\n",
       " (71, 'USC00519281'),\n",
       " (72, 'USC00519281'),\n",
       " (74, 'USC00519281'),\n",
       " (69, 'USC00519281'),\n",
       " (67, 'USC00519281'),\n",
       " (72, 'USC00519281'),\n",
       " (70, 'USC00519281'),\n",
       " (64, 'USC00519281'),\n",
       " (63, 'USC00519281'),\n",
       " (63, 'USC00519281'),\n",
       " (62, 'USC00519281'),\n",
       " (70, 'USC00519281'),\n",
       " (70, 'USC00519281'),\n",
       " (62, 'USC00519281'),\n",
       " (62, 'USC00519281'),\n",
       " (63, 'USC00519281'),\n",
       " (65, 'USC00519281'),\n",
       " (69, 'USC00519281'),\n",
       " (77, 'USC00519281'),\n",
       " (70, 'USC00519281'),\n",
       " (74, 'USC00519281'),\n",
       " (69, 'USC00519281'),\n",
       " (72, 'USC00519281'),\n",
       " (71, 'USC00519281'),\n",
       " (69, 'USC00519281'),\n",
       " (71, 'USC00519281'),\n",
       " (71, 'USC00519281'),\n",
       " (72, 'USC00519281'),\n",
       " (72, 'USC00519281'),\n",
       " (69, 'USC00519281'),\n",
       " (70, 'USC00519281'),\n",
       " (66, 'USC00519281'),\n",
       " (65, 'USC00519281'),\n",
       " (69, 'USC00519281'),\n",
       " (68, 'USC00519281'),\n",
       " (68, 'USC00519281'),\n",
       " (68, 'USC00519281'),\n",
       " (59, 'USC00519281'),\n",
       " (60, 'USC00519281'),\n",
       " (70, 'USC00519281'),\n",
       " (73, 'USC00519281'),\n",
       " (75, 'USC00519281'),\n",
       " (64, 'USC00519281'),\n",
       " (59, 'USC00519281'),\n",
       " (59, 'USC00519281'),\n",
       " (62, 'USC00519281'),\n",
       " (68, 'USC00519281'),\n",
       " (70, 'USC00519281'),\n",
       " (73, 'USC00519281'),\n",
       " (79, 'USC00519281'),\n",
       " (75, 'USC00519281'),\n",
       " (65, 'USC00519281'),\n",
       " (70, 'USC00519281'),\n",
       " (74, 'USC00519281'),\n",
       " (70, 'USC00519281'),\n",
       " (70, 'USC00519281'),\n",
       " (71, 'USC00519281'),\n",
       " (71, 'USC00519281'),\n",
       " (71, 'USC00519281'),\n",
       " (69, 'USC00519281'),\n",
       " (61, 'USC00519281'),\n",
       " (67, 'USC00519281'),\n",
       " (65, 'USC00519281'),\n",
       " (72, 'USC00519281'),\n",
       " (71, 'USC00519281'),\n",
       " (73, 'USC00519281'),\n",
       " (72, 'USC00519281'),\n",
       " (77, 'USC00519281'),\n",
       " (73, 'USC00519281'),\n",
       " (67, 'USC00519281'),\n",
       " (62, 'USC00519281'),\n",
       " (64, 'USC00519281'),\n",
       " (67, 'USC00519281'),\n",
       " (66, 'USC00519281'),\n",
       " (81, 'USC00519281'),\n",
       " (69, 'USC00519281'),\n",
       " (66, 'USC00519281'),\n",
       " (67, 'USC00519281'),\n",
       " (69, 'USC00519281'),\n",
       " (66, 'USC00519281'),\n",
       " (68, 'USC00519281'),\n",
       " (65, 'USC00519281'),\n",
       " (74, 'USC00519281'),\n",
       " (69, 'USC00519281'),\n",
       " (72, 'USC00519281'),\n",
       " (73, 'USC00519281'),\n",
       " (72, 'USC00519281'),\n",
       " (71, 'USC00519281'),\n",
       " (76, 'USC00519281'),\n",
       " (77, 'USC00519281'),\n",
       " (76, 'USC00519281'),\n",
       " (74, 'USC00519281'),\n",
       " (68, 'USC00519281'),\n",
       " (73, 'USC00519281'),\n",
       " (71, 'USC00519281'),\n",
       " (74, 'USC00519281'),\n",
       " (75, 'USC00519281'),\n",
       " (70, 'USC00519281'),\n",
       " (67, 'USC00519281'),\n",
       " (71, 'USC00519281'),\n",
       " (67, 'USC00519281'),\n",
       " (74, 'USC00519281'),\n",
       " (77, 'USC00519281'),\n",
       " (78, 'USC00519281'),\n",
       " (67, 'USC00519281'),\n",
       " (70, 'USC00519281'),\n",
       " (69, 'USC00519281'),\n",
       " (69, 'USC00519281'),\n",
       " (74, 'USC00519281'),\n",
       " (78, 'USC00519281'),\n",
       " (71, 'USC00519281'),\n",
       " (67, 'USC00519281'),\n",
       " (68, 'USC00519281'),\n",
       " (67, 'USC00519281'),\n",
       " (76, 'USC00519281'),\n",
       " (69, 'USC00519281'),\n",
       " (72, 'USC00519281'),\n",
       " (76, 'USC00519281'),\n",
       " (68, 'USC00519281'),\n",
       " (72, 'USC00519281'),\n",
       " (74, 'USC00519281'),\n",
       " (70, 'USC00519281'),\n",
       " (67, 'USC00519281'),\n",
       " (72, 'USC00519281'),\n",
       " (60, 'USC00519281'),\n",
       " (65, 'USC00519281'),\n",
       " (75, 'USC00519281'),\n",
       " (70, 'USC00519281'),\n",
       " (75, 'USC00519281'),\n",
       " (70, 'USC00519281'),\n",
       " (79, 'USC00519281'),\n",
       " (75, 'USC00519281'),\n",
       " (70, 'USC00519281'),\n",
       " (67, 'USC00519281'),\n",
       " (74, 'USC00519281'),\n",
       " (70, 'USC00519281'),\n",
       " (75, 'USC00519281'),\n",
       " (76, 'USC00519281'),\n",
       " (77, 'USC00519281'),\n",
       " (74, 'USC00519281'),\n",
       " (74, 'USC00519281'),\n",
       " (74, 'USC00519281'),\n",
       " (69, 'USC00519281'),\n",
       " (68, 'USC00519281'),\n",
       " (76, 'USC00519281'),\n",
       " (74, 'USC00519281'),\n",
       " (71, 'USC00519281'),\n",
       " (71, 'USC00519281'),\n",
       " (74, 'USC00519281'),\n",
       " (74, 'USC00519281'),\n",
       " (74, 'USC00519281'),\n",
       " (74, 'USC00519281'),\n",
       " (80, 'USC00519281'),\n",
       " (74, 'USC00519281'),\n",
       " (72, 'USC00519281'),\n",
       " (75, 'USC00519281'),\n",
       " (80, 'USC00519281'),\n",
       " (76, 'USC00519281'),\n",
       " (76, 'USC00519281'),\n",
       " (77, 'USC00519281'),\n",
       " (75, 'USC00519281'),\n",
       " (75, 'USC00519281'),\n",
       " (75, 'USC00519281'),\n",
       " (75, 'USC00519281'),\n",
       " (72, 'USC00519281'),\n",
       " (74, 'USC00519281'),\n",
       " (74, 'USC00519281'),\n",
       " (74, 'USC00519281'),\n",
       " (76, 'USC00519281'),\n",
       " (74, 'USC00519281'),\n",
       " (75, 'USC00519281'),\n",
       " (73, 'USC00519281'),\n",
       " (79, 'USC00519281'),\n",
       " (75, 'USC00519281'),\n",
       " (72, 'USC00519281'),\n",
       " (72, 'USC00519281'),\n",
       " (74, 'USC00519281'),\n",
       " (72, 'USC00519281'),\n",
       " (72, 'USC00519281'),\n",
       " (77, 'USC00519281'),\n",
       " (71, 'USC00519281'),\n",
       " (73, 'USC00519281'),\n",
       " (76, 'USC00519281'),\n",
       " (77, 'USC00519281'),\n",
       " (76, 'USC00519281'),\n",
       " (76, 'USC00519281'),\n",
       " (79, 'USC00519281'),\n",
       " (81, 'USC00519281'),\n",
       " (76, 'USC00519281'),\n",
       " (78, 'USC00519281'),\n",
       " (77, 'USC00519281'),\n",
       " (74, 'USC00519281'),\n",
       " (75, 'USC00519281'),\n",
       " (78, 'USC00519281'),\n",
       " (78, 'USC00519281'),\n",
       " (69, 'USC00519281'),\n",
       " (72, 'USC00519281'),\n",
       " (74, 'USC00519281'),\n",
       " (74, 'USC00519281'),\n",
       " (76, 'USC00519281'),\n",
       " (80, 'USC00519281'),\n",
       " (80, 'USC00519281'),\n",
       " (76, 'USC00519281'),\n",
       " (76, 'USC00519281'),\n",
       " (76, 'USC00519281'),\n",
       " (77, 'USC00519281'),\n",
       " (77, 'USC00519281'),\n",
       " (77, 'USC00519281'),\n",
       " (82, 'USC00519281'),\n",
       " (75, 'USC00519281'),\n",
       " (77, 'USC00519281'),\n",
       " (75, 'USC00519281'),\n",
       " (76, 'USC00519281'),\n",
       " (81, 'USC00519281'),\n",
       " (82, 'USC00519281'),\n",
       " (81, 'USC00519281'),\n",
       " (76, 'USC00519281'),\n",
       " (77, 'USC00519281'),\n",
       " (82, 'USC00519281'),\n",
       " (83, 'USC00519281'),\n",
       " (77, 'USC00519281'),\n",
       " (77, 'USC00519281'),\n",
       " (77, 'USC00519281'),\n",
       " (76, 'USC00519281'),\n",
       " (76, 'USC00519281'),\n",
       " (79, 'USC00519281')]"
      ]
     },
     "execution_count": 203,
     "metadata": {},
     "output_type": "execute_result"
    }
   ],
   "source": [
    "#last year of tobs data from most active station\n",
    "\n",
    "highest_tobs = (session.query(Measurement.tobs, Measurement.station)\n",
    "               .filter(Measurement.station == 'USC00519281')\n",
    "               .filter(Measurement.date >= datetime.date(2016, 8, 23))\n",
    "               .all())\n",
    "\n",
    "highest_tobs"
   ]
  },
  {
   "cell_type": "code",
   "execution_count": 204,
   "metadata": {
    "collapsed": true
   },
   "outputs": [],
   "source": [
    "obs = [temp[0] for temp in highest_tobs]"
   ]
  },
  {
   "cell_type": "code",
   "execution_count": 205,
   "metadata": {},
   "outputs": [
    {
     "name": "stdout",
     "output_type": "stream",
     "text": [
      "59\n",
      "83\n"
     ]
    }
   ],
   "source": [
    "print(min(obs))\n",
    "print(max(obs))"
   ]
  },
  {
   "cell_type": "code",
   "execution_count": 206,
   "metadata": {},
   "outputs": [],
   "source": [
    "bins = 12\n",
    "\n",
    "group_names = np.arange(59,83,2)\n"
   ]
  },
  {
   "cell_type": "code",
   "execution_count": 207,
   "metadata": {},
   "outputs": [
    {
     "data": {
      "text/plain": [
       "59     6\n",
       "61    10\n",
       "63    10\n",
       "65    20\n",
       "67    31\n",
       "69    40\n",
       "71    40\n",
       "73    72\n",
       "75    64\n",
       "77    40\n",
       "79    15\n",
       "81     4\n",
       "dtype: int64"
      ]
     },
     "execution_count": 207,
     "metadata": {},
     "output_type": "execute_result"
    }
   ],
   "source": [
    "binned_temps = pd.cut(obs, bins, labels=group_names)\n",
    "grouped_temps = binned_temps.value_counts()\n",
    "grouped_temps"
   ]
  },
  {
   "cell_type": "code",
   "execution_count": 210,
   "metadata": {},
   "outputs": [
    {
     "data": {
      "image/png": "[encoded data removed]",
      "text/plain": [
       "<matplotlib.figure.Figure at 0x11fa39b38>"
      ]
     },
     "metadata": {},
     "output_type": "display_data"
    }
   ],
   "source": [
    "x_ticks = group_names\n",
    "x_values = np.arange(12)\n",
    "y_values = [6,10,10,20,31,40,40,72,64,40,15,4]\n",
    "plt.bar(x_values,y_values)\n",
    "plt.xticks(x_values, x_ticks)\n",
    "plt.yticks(np.arange(0,80,10),np.arange(0,80,10))\n",
    "plt.xlabel(\"tobs\")\n",
    "plt.ylabel(\"Frequency\")\n",
    "\n",
    "plt.show()\n"
   ]
  },
  {
   "cell_type": "code",
   "execution_count": 133,
   "metadata": {},
   "outputs": [],
   "source": [
    "#Chosen Vacation date range:  8/10/2014 - 8/20/2014\n",
    "\n",
    "def calc_temps(SY,sm,sd,EY,em,ed):\n",
    "    trange =  (session.query(func.avg(Measurement.tobs), func.max(Measurement.tobs), func.min(Measurement.tobs))\n",
    "                           .filter(Measurement.date.between(datetime.date(SY, sm, sd),datetime.date(EY, em, ed)))\n",
    "                            .all())\n",
    "    print(trange)\n",
    "              \n"
   ]
  },
  {
   "cell_type": "code",
   "execution_count": 135,
   "metadata": {},
   "outputs": [
    {
     "name": "stdout",
     "output_type": "stream",
     "text": [
      "[(75.59420289855072, 84, 68)]\n"
     ]
    }
   ],
   "source": [
    "mytrip = calc_temps(2013,8,10,2013,8,20)\n",
    "\n",
    "mytrip"
   ]
  },
  {
   "cell_type": "code",
   "execution_count": 227,
   "metadata": {},
   "outputs": [
    {
     "data": {
      "image/png": "[encoded data removed]",
      "text/plain": [
       "<matplotlib.figure.Figure at 0x11fc2b4e0>"
      ]
     },
     "metadata": {},
     "output_type": "display_data"
    }
   ],
   "source": [
    "x = 1\n",
    "y = 75.59420289855072\n",
    "plt.bar(x, y, color='orange')\n",
    "lower_error = [y-68]\n",
    "upper_error = [84-y]\n",
    "asymmetric_error = [lower_error,upper_error]\n",
    "plt.errorbar(x, y, yerr=asymmetric_error, color=\"black\")\n",
    "plt.yticks(np.arange(0,120,20),np.arange(0,120,20))\n",
    "plt.ylabel(\"Temperature\")\n",
    "plt.xticks([])\n",
    "\n",
    "plt.show()"
   ]
  },
  {
   "cell_type": "code",
   "execution_count": null,
   "metadata": {
    "collapsed": true
   },
   "outputs": [],
   "source": []
  }
 ],
 "metadata": {
  "kernelspec": {
   "display_name": "Python [conda env:PythonData]",
   "language": "python",
   "name": "conda-env-PythonData-py"
  },
  "language_info": {
   "codemirror_mode": {
    "name": "ipython",
    "version": 3
   },
   "file_extension": ".py",
   "mimetype": "text/x-python",
   "name": "python",
   "nbconvert_exporter": "python",
   "pygments_lexer": "ipython3",
   "version": "3.6.1"
  }
 },
 "nbformat": 4,
 "nbformat_minor": 2
}
